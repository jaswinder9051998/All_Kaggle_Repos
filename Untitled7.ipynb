{
  "nbformat": 4,
  "nbformat_minor": 0,
  "metadata": {
    "colab": {
      "name": "Untitled7.ipynb",
      "provenance": []
    },
    "kernelspec": {
      "name": "python3",
      "display_name": "Python 3"
    }
  },
  "cells": [
    {
      "cell_type": "markdown",
      "metadata": {
        "id": "rOOTNqS_1-cp",
        "colab_type": "text"
      },
      "source": [
        "1. Input Width ($W_I$), Height ($H_I$) Depth ($D_I$)\n",
        "2. Output Width ($W_0$), Height ($H_0$) and Depth ($D_0$)\n",
        "3. The spatial extent of a filter (F), a single number to denote width and height as they are equal\n",
        "4. Filter depth is always the same as the Input Depth ($D_I$)\n",
        "5. The number of filters (K)\n",
        "\n",
        "Performing the convolutional operation, shrinks down the image size because the kernal cannot be placed on the edges of the image i.e the kernal must overlapp with the image at all points<br/>\n",
        "Hence the resultant relationship is\n",
        "$$W_0=W_I-F+1$$\n",
        "$$H_0=H_I-F+1$$"
      ]
    }
  ]
}